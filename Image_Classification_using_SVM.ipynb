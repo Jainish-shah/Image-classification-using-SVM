{
  "nbformat": 4,
  "nbformat_minor": 0,
  "metadata": {
    "colab": {
      "name": "Image Classification using SVM.ipynb",
      "provenance": [],
      "collapsed_sections": [],
      "authorship_tag": "ABX9TyMXK9odNfeEvkNJpleGKhSX",
      "include_colab_link": true
    },
    "kernelspec": {
      "name": "python3",
      "display_name": "Python 3"
    },
    "language_info": {
      "name": "python"
    }
  },
  "cells": [
    {
      "cell_type": "markdown",
      "metadata": {
        "id": "view-in-github",
        "colab_type": "text"
      },
      "source": [
        "<a href=\"https://colab.research.google.com/github/Jainish-shah/Mini-Project/blob/main/Image_Classification_using_SVM.ipynb\" target=\"_parent\"><img src=\"https://colab.research.google.com/assets/colab-badge.svg\" alt=\"Open In Colab\"/></a>"
      ]
    },
    {
      "cell_type": "code",
      "metadata": {
        "colab": {
          "base_uri": "https://localhost:8080/"
        },
        "id": "M5rp93NrHoiR",
        "outputId": "80508d09-b97b-4e1e-a798-4a92aec15a27"
      },
      "source": [
        "!pip install bing-image-downloader"
      ],
      "execution_count": 1,
      "outputs": [
        {
          "output_type": "stream",
          "text": [
            "Collecting bing-image-downloader\n",
            "  Downloading https://files.pythonhosted.org/packages/0d/bf/537a61030b84ae4cd5022d5c7b014fd9bc3ce7c02358919153a6658a61d3/bing_image_downloader-1.0.4-py3-none-any.whl\n",
            "Installing collected packages: bing-image-downloader\n",
            "Successfully installed bing-image-downloader-1.0.4\n"
          ],
          "name": "stdout"
        }
      ]
    },
    {
      "cell_type": "markdown",
      "metadata": {
        "id": "KqVT8xQzJzSI"
      },
      "source": [
        "## Step 0 - Gathering Data(Images)"
      ]
    },
    {
      "cell_type": "code",
      "metadata": {
        "id": "hdupWc5lHump"
      },
      "source": [
        "!mkdir dataset"
      ],
      "execution_count": 2,
      "outputs": []
    },
    {
      "cell_type": "code",
      "metadata": {
        "colab": {
          "base_uri": "https://localhost:8080/"
        },
        "id": "6-CN9qPzHvD_",
        "outputId": "f0176d7e-aa95-4163-c865-982420a7e27e"
      },
      "source": [
        "from bing_image_downloader import downloader\n",
        "downloader.download(\"pretty sunflower\",limit=30,output_dir=\"dataset\",adult_filter_off=True)"
      ],
      "execution_count": 4,
      "outputs": [
        {
          "output_type": "stream",
          "text": [
            "\n",
            "\n",
            "[!!]Indexing page: 1\n",
            "\n",
            "[%] Indexed 12 Images on Page 1.\n",
            "\n",
            "===============================================\n",
            "\n",
            "[%] Downloading Image #1 from https://i.pinimg.com/736x/2e/c2/02/2ec202de1a821301dc70d1b89d70a289.jpg\n",
            "[%] File Downloaded !\n",
            "\n",
            "[%] Downloading Image #2 from https://i.pinimg.com/736x/89/f6/18/89f618c61e98e8d33ce1f188b2e746b8--sunflower-arrangements-sunflower-bouquets.jpg\n",
            "[%] File Downloaded !\n",
            "\n",
            "[%] Downloading Image #3 from https://i.pinimg.com/originals/39/d7/53/39d7534172f92426fe3038ba30b3890e.jpg\n",
            "[%] File Downloaded !\n",
            "\n",
            "[%] Downloading Image #4 from https://www.digsdigs.com/photos/2011/10/700-free-last-minute-halloween-pumpkin-carving-templates-and-ideas-6-775x775.jpg\n",
            "[%] File Downloaded !\n",
            "\n",
            "[%] Downloading Image #5 from https://i.pinimg.com/736x/33/b3/a3/33b3a31a8e8f60377cc9db75f5a0b48e.jpg\n",
            "[%] File Downloaded !\n",
            "\n",
            "[%] Downloading Image #6 from https://s-media-cache-ak0.pinimg.com/736x/f9/63/12/f9631290efb025e6c40b2af57833ec78.jpg\n",
            "[%] File Downloaded !\n",
            "\n",
            "[%] Downloading Image #7 from https://66.media.tumblr.com/cebcb957d4b128d290afa245cfe392e0/tumblr_mftdvavnts1qcyk23o1_500.jpg\n",
            "[%] File Downloaded !\n",
            "\n",
            "[%] Downloading Image #8 from https://www.wallpapers13.com/wp-content/uploads/2015/12/Sunflower-field-wallpaper-015-1024x768.jpg\n",
            "[%] File Downloaded !\n",
            "\n",
            "[%] Downloading Image #9 from https://i.pinimg.com/736x/28/1c/e3/281ce37c04dcb2c590a399a94e9526c3.jpg\n",
            "[%] File Downloaded !\n",
            "\n",
            "[%] Downloading Image #10 from http://menningphotographic.com/wp-content/uploads/2015/01/07-23975-post/Amber_Matt_Mitchell-Ponds-Inne_Knox-PA_Rustic-Barn-Wedding_Youngstown-OH-Wedding-Photographers_0069.jpg\n",
            "[%] File Downloaded !\n",
            "\n",
            "[%] Downloading Image #11 from https://i.pinimg.com/736x/f2/9d/cb/f29dcb8044a6f22e676c63d89b0f4557--laptop-backgrounds-laptop-wallpaper.jpg?b=t\n",
            "[%] File Downloaded !\n",
            "\n",
            "[%] Downloading Image #12 from https://ohbestdayever.com/wp-content/uploads/2017/12/rustic-sunflower-wedding-centerpiece-ideas-with-mason-jars.jpg\n",
            "[%] File Downloaded !\n",
            "\n",
            "\n",
            "\n",
            "[!!]Indexing page: 2\n",
            "\n",
            "[%] Indexed 12 Images on Page 2.\n",
            "\n",
            "===============================================\n",
            "\n",
            "[%] Downloading Image #13 from https://i.pinimg.com/736x/2e/c2/02/2ec202de1a821301dc70d1b89d70a289.jpg\n",
            "[%] File Downloaded !\n",
            "\n",
            "[%] Downloading Image #14 from https://i.pinimg.com/736x/89/f6/18/89f618c61e98e8d33ce1f188b2e746b8--sunflower-arrangements-sunflower-bouquets.jpg\n",
            "[%] File Downloaded !\n",
            "\n",
            "[%] Downloading Image #15 from https://i.pinimg.com/originals/39/d7/53/39d7534172f92426fe3038ba30b3890e.jpg\n",
            "[%] File Downloaded !\n",
            "\n",
            "[%] Downloading Image #16 from https://www.digsdigs.com/photos/2011/10/700-free-last-minute-halloween-pumpkin-carving-templates-and-ideas-6-775x775.jpg\n",
            "[%] File Downloaded !\n",
            "\n",
            "[%] Downloading Image #17 from https://i.pinimg.com/736x/33/b3/a3/33b3a31a8e8f60377cc9db75f5a0b48e.jpg\n",
            "[%] File Downloaded !\n",
            "\n",
            "[%] Downloading Image #18 from https://s-media-cache-ak0.pinimg.com/736x/f9/63/12/f9631290efb025e6c40b2af57833ec78.jpg\n",
            "[%] File Downloaded !\n",
            "\n",
            "[%] Downloading Image #19 from https://66.media.tumblr.com/cebcb957d4b128d290afa245cfe392e0/tumblr_mftdvavnts1qcyk23o1_500.jpg\n",
            "[%] File Downloaded !\n",
            "\n",
            "[%] Downloading Image #20 from https://www.wallpapers13.com/wp-content/uploads/2015/12/Sunflower-field-wallpaper-015-1024x768.jpg\n",
            "[%] File Downloaded !\n",
            "\n",
            "[%] Downloading Image #21 from https://i.pinimg.com/736x/28/1c/e3/281ce37c04dcb2c590a399a94e9526c3.jpg\n",
            "[%] File Downloaded !\n",
            "\n",
            "[%] Downloading Image #22 from http://menningphotographic.com/wp-content/uploads/2015/01/07-23975-post/Amber_Matt_Mitchell-Ponds-Inne_Knox-PA_Rustic-Barn-Wedding_Youngstown-OH-Wedding-Photographers_0069.jpg\n",
            "[%] File Downloaded !\n",
            "\n",
            "[%] Downloading Image #23 from https://i.pinimg.com/736x/f2/9d/cb/f29dcb8044a6f22e676c63d89b0f4557--laptop-backgrounds-laptop-wallpaper.jpg?b=t\n",
            "[%] File Downloaded !\n",
            "\n",
            "[%] Downloading Image #24 from https://ohbestdayever.com/wp-content/uploads/2017/12/rustic-sunflower-wedding-centerpiece-ideas-with-mason-jars.jpg\n",
            "[%] File Downloaded !\n",
            "\n",
            "\n",
            "\n",
            "[!!]Indexing page: 3\n",
            "\n",
            "[%] Indexed 11 Images on Page 3.\n",
            "\n",
            "===============================================\n",
            "\n",
            "[%] Downloading Image #25 from https://i.pinimg.com/originals/39/d7/53/39d7534172f92426fe3038ba30b3890e.jpg\n",
            "[%] File Downloaded !\n",
            "\n",
            "[%] Downloading Image #26 from https://www.digsdigs.com/photos/2011/10/700-free-last-minute-halloween-pumpkin-carving-templates-and-ideas-6-775x775.jpg\n",
            "[%] File Downloaded !\n",
            "\n",
            "[%] Downloading Image #27 from https://s-media-cache-ak0.pinimg.com/736x/f9/63/12/f9631290efb025e6c40b2af57833ec78.jpg\n",
            "[%] File Downloaded !\n",
            "\n",
            "[%] Downloading Image #28 from https://66.media.tumblr.com/cebcb957d4b128d290afa245cfe392e0/tumblr_mftdvavnts1qcyk23o1_500.jpg\n",
            "[%] File Downloaded !\n",
            "\n",
            "[%] Downloading Image #29 from https://www.wallpapers13.com/wp-content/uploads/2015/12/Sunflower-field-wallpaper-015-1024x768.jpg\n",
            "[%] File Downloaded !\n",
            "\n",
            "[%] Downloading Image #30 from https://i.pinimg.com/736x/89/f6/18/89f618c61e98e8d33ce1f188b2e746b8--sunflower-arrangements-sunflower-bouquets.jpg\n",
            "[%] File Downloaded !\n",
            "\n",
            "\n",
            "\n",
            "[%] Done. Downloaded 30 images.\n",
            "\n",
            "===============================================\n",
            "\n"
          ],
          "name": "stdout"
        }
      ]
    },
    {
      "cell_type": "code",
      "metadata": {
        "colab": {
          "base_uri": "https://localhost:8080/"
        },
        "id": "dbTPWNzoIvxr",
        "outputId": "60cce773-86d9-4040-9ded-2c9145a1b1a7"
      },
      "source": [
        "from bing_image_downloader import downloader\n",
        "downloader.download(\"rugby ball leather\",limit=30,output_dir=\"dataset\",adult_filter_off=True)"
      ],
      "execution_count": 8,
      "outputs": [
        {
          "output_type": "stream",
          "text": [
            "\n",
            "\n",
            "[!!]Indexing page: 1\n",
            "\n",
            "[%] Indexed 12 Images on Page 1.\n",
            "\n",
            "===============================================\n",
            "\n",
            "[%] Downloading Image #1 from https://sportantiques.co.uk/pub/media/catalog/product/2/5/sportantiques-388204978300.jpg\n",
            "[%] File Downloaded !\n",
            "\n",
            "[%] Downloading Image #2 from http://clipart-library.com/image_gallery/n1570522.png\n",
            "[%] File Downloaded !\n",
            "\n",
            "[%] Downloading Image #3 from https://www.john-woodbridge.com/1020-tm_thickbox_default/1950s-football.jpg\n",
            "[%] File Downloaded !\n",
            "\n",
            "[%] Downloading Image #4 from https://resources.stuff.co.nz/content/dam/images/1/c/m/1/z/u/image.related.StuffLandscapeSixteenByNine.1420x800.1cm0lm.png/1467325338558.jpg\n",
            "[%] File Downloaded !\n",
            "\n",
            "[%] Downloading Image #5 from https://img0.etsystatic.com/000/0/5219063/il_fullxfull.22734302.jpg\n",
            "[%] File Downloaded !\n",
            "\n",
            "[%] Downloading Image #6 from https://cdn.shopify.com/s/files/1/0226/2169/products/Teak_Basketball_02_1024x1024.jpg?v=1568214929\n",
            "[%] File Downloaded !\n",
            "\n",
            "[%] Downloading Image #7 from https://www.prodirectrugby.com/productimages/V3_1_Gallery_1/62355.jpg\n",
            "[!] Issue getting: https://www.prodirectrugby.com/productimages/V3_1_Gallery_1/62355.jpg\n",
            "[!] Error:: HTTP Error 403: Forbidden\n",
            "[%] Downloading Image #7 from https://static.vecteezy.com/system/resources/previews/000/094/728/original/rugby-pitch-vector.jpg\n",
            "[%] File Downloaded !\n",
            "\n",
            "[%] Downloading Image #8 from https://thumbs.dreamstime.com/z/cartoon-sport-balls-25573001.jpg\n",
            "[%] File Downloaded !\n",
            "\n",
            "[%] Downloading Image #9 from https://i.ebayimg.com/images/g/nJYAAOSw1~JZTYWK/s-l400.jpg\n",
            "[%] File Downloaded !\n",
            "\n",
            "[%] Downloading Image #10 from https://avicii.ca/wp-content/uploads/2020/10/CLOTHING-STORE-FOR-MEN-WOMEN-KIDS-NEARBY-AVICII.CA_-3.jpg\n",
            "[%] File Downloaded !\n",
            "\n",
            "[%] Downloading Image #11 from http://i3.photobucket.com/albums/y81/virginking/SAMSUNG GENIO/SDC10978copy.jpg\n",
            "[!] Issue getting: http://i3.photobucket.com/albums/y81/virginking/SAMSUNG GENIO/SDC10978copy.jpg\n",
            "[!] Error:: URL can't contain control characters. '/albums/y81/virginking/SAMSUNG GENIO/SDC10978copy.jpg' (found at least ' ')\n",
            "\n",
            "\n",
            "[!!]Indexing page: 2\n",
            "\n",
            "[%] Indexed 12 Images on Page 2.\n",
            "\n",
            "===============================================\n",
            "\n",
            "[%] Downloading Image #11 from https://sportantiques.co.uk/pub/media/catalog/product/2/5/sportantiques-388204978300.jpg\n",
            "[%] File Downloaded !\n",
            "\n",
            "[%] Downloading Image #12 from http://clipart-library.com/image_gallery/n1570522.png\n",
            "[%] File Downloaded !\n",
            "\n",
            "[%] Downloading Image #13 from https://www.john-woodbridge.com/1020-tm_thickbox_default/1950s-football.jpg\n",
            "[%] File Downloaded !\n",
            "\n",
            "[%] Downloading Image #14 from https://resources.stuff.co.nz/content/dam/images/1/c/m/1/z/u/image.related.StuffLandscapeSixteenByNine.1420x800.1cm0lm.png/1467325338558.jpg\n",
            "[%] File Downloaded !\n",
            "\n",
            "[%] Downloading Image #15 from https://img0.etsystatic.com/000/0/5219063/il_fullxfull.22734302.jpg\n",
            "[%] File Downloaded !\n",
            "\n",
            "[%] Downloading Image #16 from https://cdn.shopify.com/s/files/1/0226/2169/products/Teak_Basketball_02_1024x1024.jpg?v=1568214929\n",
            "[%] File Downloaded !\n",
            "\n",
            "[%] Downloading Image #17 from https://www.prodirectrugby.com/productimages/V3_1_Gallery_1/62355.jpg\n",
            "[!] Issue getting: https://www.prodirectrugby.com/productimages/V3_1_Gallery_1/62355.jpg\n",
            "[!] Error:: HTTP Error 403: Forbidden\n",
            "[%] Downloading Image #17 from https://static.vecteezy.com/system/resources/previews/000/094/728/original/rugby-pitch-vector.jpg\n",
            "[%] File Downloaded !\n",
            "\n",
            "[%] Downloading Image #18 from https://thumbs.dreamstime.com/z/cartoon-sport-balls-25573001.jpg\n",
            "[%] File Downloaded !\n",
            "\n",
            "[%] Downloading Image #19 from https://i.ebayimg.com/images/g/nJYAAOSw1~JZTYWK/s-l400.jpg\n",
            "[%] File Downloaded !\n",
            "\n",
            "[%] Downloading Image #20 from https://avicii.ca/wp-content/uploads/2020/10/CLOTHING-STORE-FOR-MEN-WOMEN-KIDS-NEARBY-AVICII.CA_-3.jpg\n",
            "[%] File Downloaded !\n",
            "\n",
            "[%] Downloading Image #21 from http://i3.photobucket.com/albums/y81/virginking/SAMSUNG GENIO/SDC10978copy.jpg\n",
            "[!] Issue getting: http://i3.photobucket.com/albums/y81/virginking/SAMSUNG GENIO/SDC10978copy.jpg\n",
            "[!] Error:: URL can't contain control characters. '/albums/y81/virginking/SAMSUNG GENIO/SDC10978copy.jpg' (found at least ' ')\n",
            "\n",
            "\n",
            "[!!]Indexing page: 3\n",
            "\n",
            "[%] Indexed 11 Images on Page 3.\n",
            "\n",
            "===============================================\n",
            "\n",
            "[%] Downloading Image #21 from http://clipart-library.com/image_gallery/n1570522.png\n",
            "[%] File Downloaded !\n",
            "\n",
            "[%] Downloading Image #22 from https://www.john-woodbridge.com/1020-tm_thickbox_default/1950s-football.jpg\n",
            "[%] File Downloaded !\n",
            "\n",
            "[%] Downloading Image #23 from https://resources.stuff.co.nz/content/dam/images/1/c/m/1/z/u/image.related.StuffLandscapeSixteenByNine.1420x800.1cm0lm.png/1467325338558.jpg\n",
            "[%] File Downloaded !\n",
            "\n",
            "[%] Downloading Image #24 from https://img0.etsystatic.com/000/0/5219063/il_fullxfull.22734302.jpg\n",
            "[%] File Downloaded !\n",
            "\n",
            "[%] Downloading Image #25 from https://cdn.shopify.com/s/files/1/0226/2169/products/Teak_Basketball_02_1024x1024.jpg?v=1568214929\n",
            "[%] File Downloaded !\n",
            "\n",
            "[%] Downloading Image #26 from https://www.prodirectrugby.com/productimages/V3_1_Gallery_1/62355.jpg\n",
            "[!] Issue getting: https://www.prodirectrugby.com/productimages/V3_1_Gallery_1/62355.jpg\n",
            "[!] Error:: HTTP Error 403: Forbidden\n",
            "[%] Downloading Image #26 from https://static.vecteezy.com/system/resources/previews/000/094/728/original/rugby-pitch-vector.jpg\n",
            "[%] File Downloaded !\n",
            "\n",
            "[%] Downloading Image #27 from https://thumbs.dreamstime.com/z/cartoon-sport-balls-25573001.jpg\n",
            "[%] File Downloaded !\n",
            "\n",
            "[%] Downloading Image #28 from https://i.ebayimg.com/images/g/nJYAAOSw1~JZTYWK/s-l400.jpg\n",
            "[%] File Downloaded !\n",
            "\n",
            "[%] Downloading Image #29 from https://avicii.ca/wp-content/uploads/2020/10/CLOTHING-STORE-FOR-MEN-WOMEN-KIDS-NEARBY-AVICII.CA_-3.jpg\n",
            "[%] File Downloaded !\n",
            "\n",
            "[%] Downloading Image #30 from http://i3.photobucket.com/albums/y81/virginking/SAMSUNG GENIO/SDC10978copy.jpg\n",
            "[!] Issue getting: http://i3.photobucket.com/albums/y81/virginking/SAMSUNG GENIO/SDC10978copy.jpg\n",
            "[!] Error:: URL can't contain control characters. '/albums/y81/virginking/SAMSUNG GENIO/SDC10978copy.jpg' (found at least ' ')\n",
            "\n",
            "\n",
            "[!!]Indexing page: 4\n",
            "\n",
            "[%] Indexed 10 Images on Page 4.\n",
            "\n",
            "===============================================\n",
            "\n",
            "[%] Downloading Image #30 from https://www.john-woodbridge.com/1020-tm_thickbox_default/1950s-football.jpg\n",
            "[%] File Downloaded !\n",
            "\n",
            "\n",
            "\n",
            "[%] Done. Downloaded 30 images.\n",
            "\n",
            "===============================================\n",
            "\n"
          ],
          "name": "stdout"
        }
      ]
    },
    {
      "cell_type": "code",
      "metadata": {
        "colab": {
          "base_uri": "https://localhost:8080/"
        },
        "id": "oeXHgLdfJDUo",
        "outputId": "c5ddabbc-2825-4684-f708-c77f04cf9efc"
      },
      "source": [
        "downloader.download(\"ice cream cone\",limit=30,output_dir=\"dataset\",adult_filter_off=True)"
      ],
      "execution_count": 7,
      "outputs": [
        {
          "output_type": "stream",
          "text": [
            "\n",
            "\n",
            "[!!]Indexing page: 1\n",
            "\n",
            "[%] Indexed 12 Images on Page 1.\n",
            "\n",
            "===============================================\n",
            "\n",
            "[%] Downloading Image #1 from https://i.pinimg.com/736x/96/75/cd/9675cdd51940e5a91216bf1504ac8006--food-sculpture-claes-oldenburg.jpg\n",
            "[%] File Downloaded !\n",
            "\n",
            "[%] Downloading Image #2 from http://www.awesomeinventions.com/wp-content/uploads/2017/07/Times-People-Lost-The-Food-Lottery-ice-cream-no-cone.jpg\n",
            "[%] File Downloaded !\n",
            "\n",
            "[%] Downloading Image #3 from https://i.pinimg.com/736x/01/81/e9/0181e9e0d6690644a7a490b552755434--pinky-swear-american-pride.jpg\n",
            "[%] File Downloaded !\n",
            "\n",
            "[%] Downloading Image #4 from https://photos.costume-works.com/full/the_ice_cream_cone.jpg\n",
            "[%] File Downloaded !\n",
            "\n",
            "[%] Downloading Image #5 from https://www.rachaelraymag.com/.image/t_share/MTQzMjU4OTI2MjIxNjk4OTI1/microphone-cake-cones.jpg\n",
            "[%] File Downloaded !\n",
            "\n",
            "[%] Downloading Image #6 from https://i.pinimg.com/736x/8b/e5/69/8be569e442e761e63e8fc3c0d7c154d0--waffle-cone-smores-smores-cones.jpg\n",
            "[%] File Downloaded !\n",
            "\n",
            "[%] Downloading Image #7 from http://www.sippycupmom.com/wp-content/uploads/2016/07/Very-Cherry-Vanilla-Ice-Cream-Milkshake-678x1024.jpg\n",
            "[%] File Downloaded !\n",
            "\n",
            "[%] Downloading Image #8 from https://kimspireddiy.com/wp-content/uploads/2020/06/keto-ice-cream-cones-81.jpg\n",
            "[%] File Downloaded !\n",
            "\n",
            "[%] Downloading Image #9 from https://the-glass-co.com/wp-content/uploads/2016/10/ice-cream-presentation.gif\n",
            "[%] File Downloaded !\n",
            "\n",
            "[%] Downloading Image #10 from https://c8.alamy.com/comp/AJAH4W/large-plastic-ice-cream-cone-advertising-ice-cream-parlour-AJAH4W.jpg\n",
            "[%] File Downloaded !\n",
            "\n",
            "[%] Downloading Image #11 from https://s3.thcdn.com/productimg/0/960/960/13/10602613-1334850924-673817.jpg\n",
            "[%] File Downloaded !\n",
            "\n",
            "[%] Downloading Image #12 from https://www.tasteandtellblog.com/wp-content/uploads/2018/10/Cookies-Cream-Cupcakes-tasteandtellblog.com-1.jpg\n",
            "[%] File Downloaded !\n",
            "\n",
            "\n",
            "\n",
            "[!!]Indexing page: 2\n",
            "\n",
            "[%] Indexed 12 Images on Page 2.\n",
            "\n",
            "===============================================\n",
            "\n",
            "[%] Downloading Image #13 from https://i.pinimg.com/736x/96/75/cd/9675cdd51940e5a91216bf1504ac8006--food-sculpture-claes-oldenburg.jpg\n",
            "[%] File Downloaded !\n",
            "\n",
            "[%] Downloading Image #14 from http://www.awesomeinventions.com/wp-content/uploads/2017/07/Times-People-Lost-The-Food-Lottery-ice-cream-no-cone.jpg\n",
            "[%] File Downloaded !\n",
            "\n",
            "[%] Downloading Image #15 from https://i.pinimg.com/736x/01/81/e9/0181e9e0d6690644a7a490b552755434--pinky-swear-american-pride.jpg\n",
            "[%] File Downloaded !\n",
            "\n",
            "[%] Downloading Image #16 from https://photos.costume-works.com/full/the_ice_cream_cone.jpg\n",
            "[%] File Downloaded !\n",
            "\n",
            "[%] Downloading Image #17 from https://www.rachaelraymag.com/.image/t_share/MTQzMjU4OTI2MjIxNjk4OTI1/microphone-cake-cones.jpg\n",
            "[%] File Downloaded !\n",
            "\n",
            "[%] Downloading Image #18 from https://i.pinimg.com/736x/8b/e5/69/8be569e442e761e63e8fc3c0d7c154d0--waffle-cone-smores-smores-cones.jpg\n",
            "[%] File Downloaded !\n",
            "\n",
            "[%] Downloading Image #19 from http://www.sippycupmom.com/wp-content/uploads/2016/07/Very-Cherry-Vanilla-Ice-Cream-Milkshake-678x1024.jpg\n",
            "[%] File Downloaded !\n",
            "\n",
            "[%] Downloading Image #20 from https://kimspireddiy.com/wp-content/uploads/2020/06/keto-ice-cream-cones-81.jpg\n",
            "[%] File Downloaded !\n",
            "\n",
            "[%] Downloading Image #21 from https://the-glass-co.com/wp-content/uploads/2016/10/ice-cream-presentation.gif\n",
            "[%] File Downloaded !\n",
            "\n",
            "[%] Downloading Image #22 from https://c8.alamy.com/comp/AJAH4W/large-plastic-ice-cream-cone-advertising-ice-cream-parlour-AJAH4W.jpg\n",
            "[%] File Downloaded !\n",
            "\n",
            "[%] Downloading Image #23 from https://s3.thcdn.com/productimg/0/960/960/13/10602613-1334850924-673817.jpg\n",
            "[%] File Downloaded !\n",
            "\n",
            "[%] Downloading Image #24 from https://www.tasteandtellblog.com/wp-content/uploads/2018/10/Cookies-Cream-Cupcakes-tasteandtellblog.com-1.jpg\n",
            "[%] File Downloaded !\n",
            "\n",
            "\n",
            "\n",
            "[!!]Indexing page: 3\n",
            "\n",
            "[%] Indexed 11 Images on Page 3.\n",
            "\n",
            "===============================================\n",
            "\n",
            "[%] Downloading Image #25 from https://i.pinimg.com/736x/01/81/e9/0181e9e0d6690644a7a490b552755434--pinky-swear-american-pride.jpg\n",
            "[%] File Downloaded !\n",
            "\n",
            "[%] Downloading Image #26 from https://the-glass-co.com/wp-content/uploads/2016/10/ice-cream-presentation.gif\n",
            "[%] File Downloaded !\n",
            "\n",
            "[%] Downloading Image #27 from https://www.rachaelraymag.com/.image/t_share/MTQzMjU4OTI2MjIxNjk4OTI1/microphone-cake-cones.jpg\n",
            "[%] File Downloaded !\n",
            "\n",
            "[%] Downloading Image #28 from https://photos.costume-works.com/full/the_ice_cream_cone.jpg\n",
            "[%] File Downloaded !\n",
            "\n",
            "[%] Downloading Image #29 from https://www.tasteandtellblog.com/wp-content/uploads/2018/10/Cookies-Cream-Cupcakes-tasteandtellblog.com-1.jpg\n",
            "[%] File Downloaded !\n",
            "\n",
            "[%] Downloading Image #30 from https://kimspireddiy.com/wp-content/uploads/2020/06/keto-ice-cream-cones-81.jpg\n",
            "[%] File Downloaded !\n",
            "\n",
            "\n",
            "\n",
            "[%] Done. Downloaded 30 images.\n",
            "\n",
            "===============================================\n",
            "\n"
          ],
          "name": "stdout"
        }
      ]
    },
    {
      "cell_type": "markdown",
      "metadata": {
        "id": "CnfWI1GiJXAd"
      },
      "source": [
        "## Step 1 - Preprocessing of data\n",
        "\n",
        "Here the data(images collected) is gathered into one folder for better...[Explanation]"
      ]
    },
    {
      "cell_type": "code",
      "metadata": {
        "id": "h5VF9FTGJ5IM"
      },
      "source": [
        "import os\n",
        "import matplotlib.pyplot as plt\n",
        "import numpy as np\n",
        "import pandas as pd\n",
        "from skimage.io import imread\n",
        "from skimage.transform import resize\n",
        "\n",
        "\n",
        "# instead of using skimage we use opencv libraries too"
      ],
      "execution_count": 9,
      "outputs": []
    },
    {
      "cell_type": "code",
      "metadata": {
        "id": "AArM62pjKIjO"
      },
      "source": [
        "target = []\n",
        "dataset = []\n",
        "flat_data = []\n",
        "\n",
        "DATADIR = '/content/dataset'\n",
        "Categorys = ['pretty sunflower','ice cream cone','rugby ball leather']\n",
        "\n",
        "for category in Categorys:\n",
        "    class_num = Categorys.index(category)    # Label Encoding the values\n",
        "    path = os.path.join(DATADIR,category)   # Create a path to use all images\n",
        "    for img in os.listdir(path):\n",
        "        img_array = imread(os.path.join(path,img))\n",
        "        img_resized = resize(img_array,(150,150,3)) # Normalizes the values from 0 to 1\n",
        "        flat_data.append(img_resized.flatten())\n",
        "        dataset.append(img_resized)\n",
        "        target.append(class_num)\n",
        "        #print(img_array.shape)\n",
        "        # plt.imshow(img_array)\n",
        "        # break\n",
        "\n",
        "flat_data = np.array(flat_data)\n",
        "target = np.array(target)\n",
        "dataset = np.array(dataset)"
      ],
      "execution_count": 23,
      "outputs": []
    },
    {
      "cell_type": "code",
      "metadata": {
        "colab": {
          "base_uri": "https://localhost:8080/"
        },
        "id": "QABcYaivKVFh",
        "outputId": "3fbb92cc-1a72-4947-9629-d328ddd395dc"
      },
      "source": [
        "len(flat_data[0])"
      ],
      "execution_count": 24,
      "outputs": [
        {
          "output_type": "execute_result",
          "data": {
            "text/plain": [
              "67500"
            ]
          },
          "metadata": {
            "tags": []
          },
          "execution_count": 24
        }
      ]
    },
    {
      "cell_type": "code",
      "metadata": {
        "colab": {
          "base_uri": "https://localhost:8080/"
        },
        "id": "z07EEMhEKf3l",
        "outputId": "51934921-46e3-45a0-c010-cba3af8bb674"
      },
      "source": [
        "target"
      ],
      "execution_count": 25,
      "outputs": [
        {
          "output_type": "execute_result",
          "data": {
            "text/plain": [
              "array([0, 0, 0, 0, 0, 0, 0, 0, 0, 0, 0, 0, 0, 0, 0, 0, 0, 0, 0, 0, 0, 0,\n",
              "       0, 0, 0, 0, 0, 0, 0, 0, 1, 1, 1, 1, 1, 1, 1, 1, 1, 1, 1, 1, 1, 1,\n",
              "       1, 1, 1, 1, 1, 1, 1, 1, 1, 1, 1, 1, 1, 1, 1, 1, 2, 2, 2, 2, 2, 2,\n",
              "       2, 2, 2, 2, 2, 2, 2, 2, 2, 2, 2, 2, 2, 2, 2, 2, 2, 2, 2, 2, 2, 2,\n",
              "       2, 2])"
            ]
          },
          "metadata": {
            "tags": []
          },
          "execution_count": 25
        }
      ]
    },
    {
      "cell_type": "code",
      "metadata": {
        "colab": {
          "base_uri": "https://localhost:8080/",
          "height": 283
        },
        "id": "R4SHOwkIKhl_",
        "outputId": "d38be827-0a26-4596-ab41-27820afaee33"
      },
      "source": [
        "unique,count = np.unique(target,return_counts=True)\n",
        "plt.bar(Categorys,count)"
      ],
      "execution_count": 26,
      "outputs": [
        {
          "output_type": "execute_result",
          "data": {
            "text/plain": [
              "<BarContainer object of 3 artists>"
            ]
          },
          "metadata": {
            "tags": []
          },
          "execution_count": 26
        },
        {
          "output_type": "display_data",
          "data": {
            "image/png": "[encoded data removed]",
            "text/plain": [
              "<Figure size 432x288 with 1 Axes>"
            ]
          },
          "metadata": {
            "tags": [],
            "needs_background": "light"
          }
        }
      ]
    },
    {
      "cell_type": "markdown",
      "metadata": {
        "id": "7cEYBDOCn7qQ"
      },
      "source": [
        "## Step 2 : Split the Dataset into Training and Testing"
      ]
    },
    {
      "cell_type": "code",
      "metadata": {
        "id": "7GEDzQBDKjH4"
      },
      "source": [
        "\n",
        "from sklearn.model_selection import train_test_split\n",
        "\n",
        "x_train, x_test,y_train, y_test = train_test_split(flat_data,target,test_size = 0.3,random_state = 109)"
      ],
      "execution_count": 27,
      "outputs": []
    },
    {
      "cell_type": "markdown",
      "metadata": {
        "id": "VfXjllcuoEhZ"
      },
      "source": [
        "## Step 3 - Training the model using SVM"
      ]
    },
    {
      "cell_type": "code",
      "metadata": {
        "colab": {
          "base_uri": "https://localhost:8080/"
        },
        "id": "ESPc9t08Kw16",
        "outputId": "60c3dde8-a0a4-4dfd-9e74-d822d22f520e"
      },
      "source": [
        "from sklearn.model_selection import GridSearchCV\n",
        "from sklearn import svm\n",
        "param_grid = [\n",
        "              {'C':[1,100,1000],'kernel':['linear']},\n",
        "              {'C':[1,10,1000],'gamma':[0.001,0.0001],'kernel':['rbf']},\n",
        "]\n",
        "svc = svm.SVC(probability=True)\n",
        "clf = GridSearchCV(svc,param_grid)\n",
        "clf.fit(x_train,y_train)"
      ],
      "execution_count": 28,
      "outputs": [
        {
          "output_type": "execute_result",
          "data": {
            "text/plain": [
              "GridSearchCV(cv=None, error_score=nan,\n",
              "             estimator=SVC(C=1.0, break_ties=False, cache_size=200,\n",
              "                           class_weight=None, coef0=0.0,\n",
              "                           decision_function_shape='ovr', degree=3,\n",
              "                           gamma='scale', kernel='rbf', max_iter=-1,\n",
              "                           probability=True, random_state=None, shrinking=True,\n",
              "                           tol=0.001, verbose=False),\n",
              "             iid='deprecated', n_jobs=None,\n",
              "             param_grid=[{'C': [1, 100, 1000], 'kernel': ['linear']},\n",
              "                         {'C': [1, 10, 1000], 'gamma': [0.001, 0.0001],\n",
              "                          'kernel': ['rbf']}],\n",
              "             pre_dispatch='2*n_jobs', refit=True, return_train_score=False,\n",
              "             scoring=None, verbose=0)"
            ]
          },
          "metadata": {
            "tags": []
          },
          "execution_count": 28
        }
      ]
    },
    {
      "cell_type": "code",
      "metadata": {
        "colab": {
          "base_uri": "https://localhost:8080/"
        },
        "id": "vKfJ83jTKy3W",
        "outputId": "c45ba595-d263-4cd8-90b1-b3b68bb41bde"
      },
      "source": [
        "y_pred = clf.predict(x_test)\n",
        "y_pred"
      ],
      "execution_count": 29,
      "outputs": [
        {
          "output_type": "execute_result",
          "data": {
            "text/plain": [
              "array([1, 1, 1, 2, 2, 1, 0, 2, 1, 0, 1, 0, 1, 2, 2, 2, 2, 1, 1, 1, 2, 2,\n",
              "       2, 0, 0, 0, 1])"
            ]
          },
          "metadata": {
            "tags": []
          },
          "execution_count": 29
        }
      ]
    },
    {
      "cell_type": "code",
      "metadata": {
        "colab": {
          "base_uri": "https://localhost:8080/"
        },
        "id": "CDIcnXB_K0-8",
        "outputId": "4f695b35-8f63-4969-d7ed-757be3896f28"
      },
      "source": [
        "y_test"
      ],
      "execution_count": 30,
      "outputs": [
        {
          "output_type": "execute_result",
          "data": {
            "text/plain": [
              "array([1, 0, 1, 2, 2, 1, 0, 1, 1, 0, 1, 0, 1, 2, 2, 1, 2, 1, 0, 1, 2, 2,\n",
              "       2, 0, 0, 0, 1])"
            ]
          },
          "metadata": {
            "tags": []
          },
          "execution_count": 30
        }
      ]
    },
    {
      "cell_type": "code",
      "metadata": {
        "colab": {
          "base_uri": "https://localhost:8080/"
        },
        "id": "hUBl5wGPK28b",
        "outputId": "f7138434-8162-4c23-d6e3-8fa700209ffe"
      },
      "source": [
        "from sklearn.metrics import accuracy_score,confusion_matrix\n",
        "accuracy_score(y_pred,y_test)"
      ],
      "execution_count": 31,
      "outputs": [
        {
          "output_type": "execute_result",
          "data": {
            "text/plain": [
              "0.8518518518518519"
            ]
          },
          "metadata": {
            "tags": []
          },
          "execution_count": 31
        }
      ]
    },
    {
      "cell_type": "code",
      "metadata": {
        "colab": {
          "base_uri": "https://localhost:8080/"
        },
        "id": "JBGw0LpGK4kw",
        "outputId": "4534731a-c687-4c46-bcda-83f8f583fc0f"
      },
      "source": [
        "confusion_matrix(y_pred, y_test)"
      ],
      "execution_count": 32,
      "outputs": [
        {
          "output_type": "execute_result",
          "data": {
            "text/plain": [
              "array([[6, 0, 0],\n",
              "       [2, 9, 0],\n",
              "       [0, 2, 8]])"
            ]
          },
          "metadata": {
            "tags": []
          },
          "execution_count": 32
        }
      ]
    },
    {
      "cell_type": "markdown",
      "metadata": {
        "id": "Nkv_2KUhoAo5"
      },
      "source": [
        "## Saving the model in the pickle"
      ]
    },
    {
      "cell_type": "code",
      "metadata": {
        "id": "eFGSIKa_K5_R"
      },
      "source": [
        "\n",
        "import pickle\n",
        "pickle.dump(clf,open('img_model.p','wb'))"
      ],
      "execution_count": 33,
      "outputs": []
    },
    {
      "cell_type": "code",
      "metadata": {
        "id": "ODI9Vj1NK7qN"
      },
      "source": [
        "model = pickle.load(open('img_model.p','rb'))"
      ],
      "execution_count": 34,
      "outputs": []
    },
    {
      "cell_type": "markdown",
      "metadata": {
        "id": "CSLZJ-LJoQAf"
      },
      "source": [
        "## Checking the model accuracy using random images"
      ]
    },
    {
      "cell_type": "code",
      "metadata": {
        "colab": {
          "base_uri": "https://localhost:8080/",
          "height": 324
        },
        "id": "1fr9VlpGK9tm",
        "outputId": "19ee579e-155d-4117-c92c-e69010906abe"
      },
      "source": [
        "# Testing a brand new image\n",
        "flat_data = []\n",
        "url = input(\"Enter the URL for the image\")\n",
        "img = imread(url)\n",
        "img_resized = resize(img,(150,150,3))\n",
        "flat_data.append(img_resized.flatten())\n",
        "flat_data = np.array(flat_data)\n",
        "print(img.shape)\n",
        "plt.imshow(img_resized)\n",
        "y_out = model.predict(flat_data)\n",
        "y_out = Categorys[y_out[0]]\n",
        "print(f'Predicted output:{y_out}')"
      ],
      "execution_count": 47,
      "outputs": [
        {
          "output_type": "stream",
          "text": [
            "Enter the URL for the imagehttps://s3.thcdn.com/productimg/0/960/960/13/10602613-1334850924-673817.jpg\n",
            "(960, 960, 3)\n",
            "Predicted output:ice cream cone\n"
          ],
          "name": "stdout"
        },
        {
          "output_type": "display_data",
          "data": {
            "image/png": "[encoded data removed]",
            "text/plain": [
              "<Figure size 432x288 with 1 Axes>"
            ]
          },
          "metadata": {
            "tags": [],
            "needs_background": "light"
          }
        }
      ]
    },
    {
      "cell_type": "code",
      "metadata": {
        "colab": {
          "base_uri": "https://localhost:8080/",
          "height": 324
        },
        "id": "E4R-WnS1K_sJ",
        "outputId": "67c477fb-48fc-4f31-a827-042fc23bd9f5"
      },
      "source": [
        "flat_data = []\n",
        "url = input(\"Enter the URL for the image\")\n",
        "img = imread(url)\n",
        "img_resized = resize(img,(150,150,3))\n",
        "flat_data.append(img_resized.flatten())\n",
        "flat_data = np.array(flat_data)\n",
        "print(img.shape)\n",
        "plt.imshow(img_resized)\n",
        "y_out = model.predict(flat_data)\n",
        "y_out = Categorys[y_out[0]]\n",
        "print(f'Predicted output:{y_out}')"
      ],
      "execution_count": 38,
      "outputs": [
        {
          "output_type": "stream",
          "text": [
            "Enter the URL for the imagehttps://sc04.alicdn.com/kf/UTB84YGmhCbIXKJkSaefq6yasXXaw.jpg\n",
            "(1000, 1000, 3)\n",
            "Predicted output:rugby ball leather\n"
          ],
          "name": "stdout"
        },
        {
          "output_type": "display_data",
          "data": {
            "image/png": "[encoded data removed]",
            "text/plain": [
              "<Figure size 432x288 with 1 Axes>"
            ]
          },
          "metadata": {
            "tags": [],
            "needs_background": "light"
          }
        }
      ]
    },
    {
      "cell_type": "code",
      "metadata": {
        "id": "N99yBgeHLdjW"
      },
      "source": [
        ""
      ],
      "execution_count": null,
      "outputs": []
    },
    {
      "cell_type": "code",
      "metadata": {
        "colab": {
          "base_uri": "https://localhost:8080/"
        },
        "id": "RhskR3LRneAN",
        "outputId": "b9b63074-8f60-4b5f-fd32-5741535faa52"
      },
      "source": [
        "from google.colab import drive\n",
        "drive.mount('/content/drive')"
      ],
      "execution_count": 48,
      "outputs": [
        {
          "output_type": "stream",
          "text": [
            "Mounted at /content/drive\n"
          ],
          "name": "stdout"
        }
      ]
    }
  ]
}